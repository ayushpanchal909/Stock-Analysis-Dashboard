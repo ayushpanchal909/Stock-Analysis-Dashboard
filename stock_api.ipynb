{
 "cells": [
  {
   "cell_type": "code",
   "execution_count": 1,
   "id": "0bfb9da3",
   "metadata": {},
   "outputs": [],
   "source": [
    "import os\n",
    "import pandas as pd\n",
    "from datetime import datetime\n",
    "from watchdog.observers import Observer\n",
    "from watchdog.events import FileSystemEventHandler"
   ]
  },
  {
   "cell_type": "code",
   "execution_count": 4,
   "id": "4b2f12df",
   "metadata": {},
   "outputs": [
    {
     "name": "stdout",
     "output_type": "stream",
     "text": [
      "Processed: C:/Users/HP/Documents/sql_project/projects/project 20/all_stocks\\IRCTC_stock.csv\n",
      "Automation completed.\n"
     ]
    }
   ],
   "source": [
    "# Define the input and output folders\n",
    "input_folder = 'C:/Users/HP/Documents/sql_project/projects/project 20/all_stocks'\n",
    "output_folder = 'C:/Users/HP/Documents/sql_project/projects/project 20/output'\n",
    "\n",
    "# Function to process a single CSV file\n",
    "def process_csv_file(file_path):\n",
    "    # Load the CSV file\n",
    "    df = pd.read_csv(file_path)\n",
    "    \n",
    "    # Transform the Date column to YYYY-MM-DD format\n",
    "    df['Date'] = df['Date'].apply(lambda x: datetime.strptime(x, '%Y-%m-%d %H:%M:%S%z').strftime('%Y-%m-%d'))\n",
    "    \n",
    "    # Remove Dividends and Stock Split columns\n",
    "    df.drop(['Dividends', 'Stock Splits'], axis=1, inplace=True)\n",
    "    \n",
    "    # Add a new column with the original file name\n",
    "    file_name = os.path.basename(file_path)\n",
    "    df['Stock'] = file_name\n",
    "    \n",
    "    # Save the processed CSV to the output folder\n",
    "    output_file_path = os.path.join(output_folder, file_name)\n",
    "    df.to_csv(output_file_path, index=False)\n",
    "\n",
    "# Check for new CSV files in the input folder\n",
    "for root, dirs, files in os.walk(input_folder):\n",
    "    for file in files:\n",
    "        if file.endswith('.csv'):\n",
    "            file_path = os.path.join(root, file)\n",
    "            process_csv_file(file_path)\n",
    "            print(f'Processed: {file_path}')\n",
    "\n",
    "print(\"Automation completed.\")"
   ]
  }
 ],
 "metadata": {
  "kernelspec": {
   "display_name": "Python 3 (ipykernel)",
   "language": "python",
   "name": "python3"
  },
  "language_info": {
   "codemirror_mode": {
    "name": "ipython",
    "version": 3
   },
   "file_extension": ".py",
   "mimetype": "text/x-python",
   "name": "python",
   "nbconvert_exporter": "python",
   "pygments_lexer": "ipython3",
   "version": "3.10.9"
  }
 },
 "nbformat": 4,
 "nbformat_minor": 5
}
